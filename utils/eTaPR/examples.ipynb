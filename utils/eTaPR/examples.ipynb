{
 "cells": [
  {
   "cell_type": "code",
   "execution_count": 2,
   "source": [
    "from eTaPR_pkg import etapr\r\n",
    "from eTaPR_pkg import tapr\r\n",
    "from eTaPR_pkg.DataManage import File_IO\r\n",
    "from eTaPR_pkg.DataManage import Range"
   ],
   "outputs": [],
   "metadata": {
    "collapsed": true,
    "pycharm": {
     "is_executing": false
    }
   }
  },
  {
   "cell_type": "code",
   "execution_count": 2,
   "source": [
    "# HAI dataset \r\n",
    "\r\n",
    "anomalies = File_IO.load_file('./Sample_Data/Real Data/hai/HAI_Attack_Range.csv', 'range')\r\n",
    "predictions_rnn = File_IO.load_file('./Sample_Data/Real Data/hai/rnn.csv', 'range')\r\n",
    "predictions_seq2seq = File_IO.load_file('./Sample_Data/Real Data/hai/rnn_poor.csv', 'stream')\r\n",
    "predictions_ocsvm = File_IO.load_file('./Sample_Data/Real Data/hai/ocsvm_pca3_gamma000001.csv', 'stream')\r\n",
    "predictions_if = File_IO.load_file('./Sample_Data/Real Data/hai/iforest.csv', 'stream')\r\n",
    "\r\n",
    "theta_p = 0.5\r\n",
    "theta_r = 0.1\r\n",
    "delta = 0.0\r\n",
    "\r\n",
    "result1 = 'eTaP'\r\n",
    "result2 = 'eTaR'\r\n",
    "\r\n",
    "result = etapr.evaluate_w_ranges(anomalies, predictions_rnn, theta_p=theta_p, theta_r=theta_r, delta=delta)\r\n",
    "print(result[result1], result[result2])\r\n",
    "\r\n",
    "result = etapr.evaluate_w_ranges(anomalies, predictions_seq2seq, theta_p=theta_p, theta_r=theta_r, delta=delta)\r\n",
    "print(result[result1], result[result2])\r\n",
    "\r\n",
    "result = etapr.evaluate_w_ranges(anomalies, predictions_ocsvm, theta_p=theta_p, theta_r=theta_r, delta=delta)\r\n",
    "print(result[result1], result[result2])\r\n",
    "\r\n",
    "result = etapr.evaluate_w_ranges(anomalies, predictions_if, theta_p=theta_p, theta_r=theta_r, delta=delta)\r\n",
    "print(result[result1], result[result2])\r\n"
   ],
   "outputs": [
    {
     "output_type": "stream",
     "name": "stdout",
     "text": [
      "0.7713966760670083 0.7993275761182115\n",
      "0.5053671587611459 0.7215663791743986\n",
      "0.0028622857833701526 0.014755095832065713\n",
      "0.0036919114813830436 0.01452692424703377\n"
     ]
    }
   ],
   "metadata": {
    "collapsed": false,
    "pycharm": {
     "name": "#%%\n",
     "is_executing": false
    }
   }
  },
  {
   "cell_type": "code",
   "execution_count": 2,
   "source": [
    "# Results of eTaPR, precision and recall, and point-adjust precision and recall\r\n",
    "\r\n",
    "anomalies = File_IO.load_file('./Sample_Data/Real Data/hai/HAI_Attack_Range.csv', 'range')\r\n",
    "predictions_seq2seq = File_IO.load_file('./Sample_Data/Real Data/hai/rnn_poor.csv', 'stream')\r\n",
    "\r\n",
    "theta_p = 0.5\r\n",
    "theta_r = 0.1\r\n",
    "delta = 0.0\r\n",
    "\r\n",
    "result = etapr.evaluate_w_ranges(anomalies, predictions_seq2seq, theta_p=theta_p, theta_r=theta_r, delta=delta)\r\n",
    "print('eTaP: {:.3f}\\t\\t\\teTaR: {:.3f}'.format(result['eTaP'], result['eTaR']))\r\n",
    "print('precision: {:.3f}\\t\\trecall: {:.3f}'.format(result['precision'], result['recall']))\r\n",
    "print('point-adjust precision: {:.3f}\\tpoint-adjust recall: {:.3f}'.format(result['point_adjust_precision'], result['point_adjust_recall']))\r\n"
   ],
   "outputs": [
    {
     "output_type": "stream",
     "name": "stdout",
     "text": [
      "eTaP: 0.505\t\t\teTaR: 0.722\n",
      "precision: 0.206\t\trecall: 0.744\n",
      "point-adjust precision: 0.245\tpoint-adjust recall: 0.929\n"
     ]
    }
   ],
   "metadata": {}
  },
  {
   "cell_type": "code",
   "execution_count": 5,
   "source": [
    "# Visualize the results\r\n",
    "\r\n",
    "anomalies = File_IO.load_file('./Sample_Data/Real Data/hai/HAI_Attack_Range.csv', 'range')\r\n",
    "predictions_seq2seq = File_IO.load_file('./Sample_Data/Real Data/hai/rnn_poor.csv', 'stream')\r\n",
    "\r\n",
    "theta_p = 0.5\r\n",
    "theta_r = 0.1\r\n",
    "delta = 0.0\r\n",
    "\r\n",
    "etapr.draw_graph(anomalies, predictions_seq2seq, 'screen')"
   ],
   "outputs": [],
   "metadata": {}
  },
  {
   "cell_type": "code",
   "execution_count": 4,
   "source": [
    "# SWaT dataset \r\n",
    "\r\n",
    "anomalies = File_IO.load_file('./Sample_Data/Real Data/SWaT/SWaT_Attack_Range.csv', 'range')\r\n",
    "predictions_rnn = File_IO.load_file('./Sample_Data/Real Data/SWaT/rnn.csv', 'range')\r\n",
    "predictions_seq2seq = File_IO.load_file('./Sample_Data/Real Data/SWaT/rnn_poor.csv', 'stream')\r\n",
    "predictions_ocsvm = File_IO.load_file('./Sample_Data/Real Data/SWaT/ocsvm.csv', 'stream')\r\n",
    "predictions_if = File_IO.load_file('./Sample_Data/Real Data/SWaT/iforest.csv', 'stream')\r\n",
    "\r\n",
    "theta_p = 0.5\r\n",
    "theta_r = 0.1\r\n",
    "delta = 0.0\r\n",
    "\r\n",
    "result1 = 'eTaP'\r\n",
    "result2 = 'eTaR'\r\n",
    "\r\n",
    "result = etapr.evaluate_w_ranges(anomalies, predictions_rnn, theta_p=theta_p, theta_r=theta_r, delta=delta)\r\n",
    "print(result[result1], result[result2])\r\n",
    "\r\n",
    "result = etapr.evaluate_w_ranges(anomalies, predictions_seq2seq, theta_p=theta_p, theta_r=theta_r, delta=delta)\r\n",
    "print(result[result1], result[result2])\r\n",
    "\r\n",
    "result = etapr.evaluate_w_ranges(anomalies, predictions_ocsvm, theta_p=theta_p, theta_r=theta_r, delta=delta)\r\n",
    "print(result[result1], result[result2])\r\n",
    "\r\n",
    "result = etapr.evaluate_w_ranges(anomalies, predictions_if, theta_p=theta_p, theta_r=theta_r, delta=delta)\r\n",
    "print(result[result1], result[result2])"
   ],
   "outputs": [
    {
     "output_type": "stream",
     "name": "stdout",
     "text": [
      "0.5886922523791938 0.5512120424420957\n",
      "0.16757796200288375 0.20152892001923892\n",
      "0.22691565212592021 0.2822987485084696\n",
      "0.06881988502837356 0.11988153066020987\n"
     ]
    }
   ],
   "metadata": {
    "collapsed": false,
    "pycharm": {
     "name": "#%%\n",
     "is_executing": false
    }
   }
  }
 ],
 "metadata": {
  "kernelspec": {
   "name": "python3",
   "display_name": "Python 3.8.3 64-bit"
  },
  "language_info": {
   "name": "python",
   "version": "3.8.3",
   "mimetype": "text/x-python",
   "codemirror_mode": {
    "name": "ipython",
    "version": 3
   },
   "pygments_lexer": "ipython3",
   "nbconvert_exporter": "python",
   "file_extension": ".py"
  },
  "pycharm": {
   "stem_cell": {
    "cell_type": "raw",
    "source": [],
    "metadata": {
     "collapsed": false
    }
   }
  },
  "interpreter": {
   "hash": "004de6046f1b3d314f33fdb43a2dc798b2646e5600efd8df5066c8b63a00ff6d"
  }
 },
 "nbformat": 4,
 "nbformat_minor": 2
}